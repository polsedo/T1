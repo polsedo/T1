{
 "cells": [
  {
   "cell_type": "code",
   "execution_count": null,
   "metadata": {},
   "outputs": [
    {
     "ename": "",
     "evalue": "",
     "output_type": "error",
     "traceback": [
      "\u001b[1;31mRunning cells with 'c:\\Users\\polse\\AppData\\Local\\Microsoft\\WindowsApps\\python3.10.exe' requires ipykernel package.\n",
      "\u001b[1;31mRun the following command to install 'ipykernel' into the Python environment. \n",
      "\u001b[1;31mCommand: 'c:/Users/polse/AppData/Local/Microsoft/WindowsApps/python3.10.exe -m pip install ipykernel -U --user --force-reinstall'"
     ]
    }
   ],
   "source": [
    "import numpy as np\n",
    "import matplotlib.pyplot as plt\n",
    "import soundfile as sf\n",
    "import sounddevice as sd \n",
    "from numpy.fft import fft\n",
    "\n",
    "\n",
    "x_r, fm = sf.read('so_1.wav')\n",
    "magspec = plt.magnitude_spectrum(x_r, fm)\n",
    "#print(np.mean(magspec.))\n",
    "fxx=magspec[1][np.argmax(magspec[0])]\n",
    "T= 2.5  \n",
    "L = int(fm * T)                      # Nombre de mostres del senyal digital\n",
    "Tm=1/fm                              # Període de mostratge\n",
    "t=Tm*np.arange(L)     \n",
    "\n",
    "Tx=1/fxx                            # Període del senyal\n",
    "Ls=int(fm*5*Tx)\n",
    "N=fm                                # Dimensió de la transformada discreta\n",
    "X=fft(x_r[0 : Ls], N)  \n",
    "k=np.arange(N)                        # Vector amb els valors 0≤  k<N\n",
    "\n",
    "\n",
    "Xdb=20*np.log10(np.abs(X)/np.max(np.abs(X)))\n",
    "Fk=(k/N)*(fm/2)\n",
    "\n",
    "plt.figure(0)\n",
    "plt.plot(Fk/2,Xdb)\n",
    "plt.show()"
   ]
  },
  {
   "attachments": {},
   "cell_type": "markdown",
   "metadata": {},
   "source": [
    "## Algo to guapo"
   ]
  }
 ],
 "metadata": {
  "kernelspec": {
   "display_name": "Python 3",
   "language": "python",
   "name": "python3"
  },
  "language_info": {
   "name": "python",
   "version": "3.10.10 (tags/v3.10.10:aad5f6a, Feb  7 2023, 17:20:36) [MSC v.1929 64 bit (AMD64)]"
  },
  "orig_nbformat": 4,
  "vscode": {
   "interpreter": {
    "hash": "46dde1af7f70a3e17c1314776cd2ac6995afca59b0725b500bce4c8c040857c1"
   }
  }
 },
 "nbformat": 4,
 "nbformat_minor": 2
}
